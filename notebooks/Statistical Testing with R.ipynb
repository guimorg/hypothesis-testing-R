{
 "cells": [
  {
   "cell_type": "markdown",
   "metadata": {
    "slideshow": {
     "slide_type": "slide"
    }
   },
   "source": [
    "# Statistical tests with R\n",
    "\n",
    "##### Guilherme Gimenez Jr"
   ]
  },
  {
   "cell_type": "markdown",
   "metadata": {
    "slideshow": {
     "slide_type": "subslide"
    }
   },
   "source": [
    "## Agenda\n",
    "\n",
    "1. **About Hypothesis Testing**\n",
    "2. **Importing our data**\n",
    "3. **Setting up hypothesis**\n",
    "4. **Jumping right into it**"
   ]
  },
  {
   "cell_type": "markdown",
   "metadata": {
    "slideshow": {
     "slide_type": "slide"
    }
   },
   "source": [
    "### 1. About Hypothesis Testing\n",
    "\n",
    "Building a hypothesis is one of the first steps in starting in the analysis of experiments it's all about **answering a question**. Of course, before building a hypothesis is always good to conduct an Exploratory Data Analysis (EDA) to get more insight into what information is available and what lies within the data."
   ]
  },
  {
   "cell_type": "markdown",
   "metadata": {
    "slideshow": {
     "slide_type": "subslide"
    }
   },
   "source": [
    "#### What is a hypothesis?\n",
    "\n",
    "Well, a hypothesis can be thought of as **an educated guess** about something in the data, it **must be testable** either by an experiment or observation**.\n",
    "\n",
    "When we are proposing a hypothesis we should **write a statement**:\n",
    "\n",
    "> [...] **if** and **then** [...] are necessary in formalized hypothesis. [...] In a formalized hypothesis, a tentative relationship is stated. [...] Formalized hypotheses contain two variables. One is \"independent\" and the other is \"dependent\". The independent variable is the one you, the \"scientist\" control, and the dependent variable is the one that you observe and/or measure the results. [University of California](https://www.csub.edu/~ddodenhoff/Bio100/Bio100sp04/formattingahypothesis.htm)\n",
    "\n",
    "A very nice example of a well-written hypothesis:\n",
    "\n",
    "- **If** skin cancer is **related** to ultraviolet light, **then** people with high exposure to UV light will have a higher frequency of skin cancer.\n",
    "\n",
    "Notice that we have included the **dependent** variable, _skin cancer_ , the **independent variable**, _UV light_ , and also the expectations, or results, for an experiment, _higher frequency of skin cancer_."
   ]
  },
  {
   "cell_type": "markdown",
   "metadata": {
    "slideshow": {
     "slide_type": "subslide"
    }
   },
   "source": [
    "#### What is Hypothesis Testing?\n",
    "\n",
    "In simple words, we are **testing the odds of our results happening by chance** (or if we have meaningful results). To do this we need to have a **null hypothesis $H_{0}$** (and an alternative hypothesis $H_{1}$) that we will try to reject or accept.\n",
    "\n",
    "This is where the most known _p-value_ term is born: to determine the statistical significance of the results we analyze the _p-value_ , if it is less than or equal to a _particular threshold_ there is evidence against the null hypothesis. Different fields use different threshold values when performing hypothesis testing, in our case, we will use $\\alpha=0.05$.\n",
    "\n",
    "> Under the null hypothesis, a parameter of interest is set to a particular value, typically zero, which represents the \"no effect\" relative to the effect the research is testing for. [Too Big to Fail: Large Samples and the p-value Problem](https://www.researchgate.net/publication/270504262_Too_Big_to_Fail_Large_Samples_and_the_p-Value_Problem)\n",
    "\n",
    "The following table shows the possible outcomes:\n",
    "\n",
    "|||Actual Validity of $H_{0}$|Actual Validity of $H_{0}$|\n",
    "|-|-|-|-|\n",
    "|||**$H_{0}$ is true**|**$H_{0}$ is false**|\n",
    "|**Decision Made**|**Accept $H_{0}$**|True Negative|False Negative (Type II error)|\n",
    "|**Decision Made**|**Reject $H_{0}$**|False Positive (Type I error)|True Positive|"
   ]
  },
  {
   "cell_type": "markdown",
   "metadata": {
    "slideshow": {
     "slide_type": "subslide"
    }
   },
   "source": [
    "The _p-value_ is a _very slippery terrain_ and must be dealt with caution. There are some problems related to hypothesis testing like:\n",
    "\n",
    "- A high number of observations can lead to significant _p-values_ even if there is no statistical significance\n",
    "- Selective reporting and _p-hacking_ are some issues that arrive due to heavy usage of p-values"
   ]
  },
  {
   "cell_type": "markdown",
   "metadata": {
    "slideshow": {
     "slide_type": "subslide"
    }
   },
   "source": [
    "#### Types of statistical tests \n",
    "\n",
    "The appropriate statistical test for the data depends on **the number and type of variables** that will be included in the analysis.\n",
    "\n",
    "There are [several tables](https://stats.idre.ucla.edu/other/mult-pkg/whatstat/) that can help when choosing the right statistical test to perform."
   ]
  },
  {
   "cell_type": "markdown",
   "metadata": {
    "slideshow": {
     "slide_type": "slide"
    }
   },
   "source": [
    "### 2. Importing our data\n",
    "\n",
    "To perform our statistical tests we will use some datasets that are already available on R (with our vanilla installation). Following the previous lecture, we are going to use the **mtcars dataset**."
   ]
  },
  {
   "cell_type": "code",
   "execution_count": null,
   "metadata": {
    "slideshow": {
     "slide_type": "subslide"
    }
   },
   "outputs": [],
   "source": [
    "# Let's see which datasets are already available from our vanilla R installation\n",
    "data()"
   ]
  },
  {
   "cell_type": "markdown",
   "metadata": {
    "slideshow": {
     "slide_type": "slide"
    }
   },
   "source": [
    "#### About the Data\n",
    "\n",
    "The **mtcars dataset** was extracted from the Motor Trend US Magazine, comprising fuel consumption and 10 aspects of automobile design and performance for 32 vehicles (1973-1974 models).\n",
    "\n",
    "|feature name|description|\n",
    "|-|-|\n",
    "|mpg|Consumption in miles/gallon|\n",
    "|cyl|Number of Cylinders|\n",
    "|disp|Displacement|\n",
    "|hp|Gross Horsepower|\n",
    "|drat|Rear axle ratio|\n",
    "|wt|Weight (1000 lbs)|\n",
    "|qsec|1/4 mile time|\n",
    "|vs|Engine (0=V-Shaped, 1=straight)|\n",
    "|am|Transmission (0=automatic, 1=manual)|\n",
    "|gear|Number of forward gears|\n",
    "|carb|Number of carburetors|"
   ]
  },
  {
   "cell_type": "code",
   "execution_count": null,
   "metadata": {
    "slideshow": {
     "slide_type": "subslide"
    }
   },
   "outputs": [],
   "source": [
    "# Attaching the database lets us access each one of the variables\n",
    "# without using the '$' atomic operator\n",
    "attach(mtcars)\n",
    "\n",
    "head(mtcars)\n",
    "# If this doesn't work on RStudio, try running this command:\n",
    "# data(mtcars)"
   ]
  },
  {
   "cell_type": "code",
   "execution_count": null,
   "metadata": {},
   "outputs": [],
   "source": [
    "?mtcars"
   ]
  },
  {
   "cell_type": "markdown",
   "metadata": {
    "slideshow": {
     "slide_type": "subslide"
    }
   },
   "source": [
    "Let's explore our data a little bit. We need to understand our variables types and their distribution..."
   ]
  },
  {
   "cell_type": "code",
   "execution_count": null,
   "metadata": {
    "slideshow": {
     "slide_type": "subslide"
    }
   },
   "outputs": [],
   "source": [
    "# Getting statistical information about each variable\n",
    "summary(mtcars)"
   ]
  },
  {
   "cell_type": "markdown",
   "metadata": {},
   "source": [
    "## Before we start....\n",
    "\n",
    "Let's review a simple concept of Object-Oriented Programming that will help us to understand and have a better understanding of Hypothesis Testing in R.\n",
    "\n",
    "### What is Object-Oriented Programming (OOP)?\n",
    "\n",
    "This is not a tutorial/class on what is OOP and how to apply it for developing applications in R but is nice knowing a little bit of OOP to understand the objects received by functions when you perform a hypothesis test in R.\n",
    "\n",
    "R is a dynamic typing language where everything is an object. Think of an object as a \"container\"-like structure filled with functions and attributes; every object coming from the same class has the same functions and set of attributes. And think of a class like being the checklist or the contract for the container (yeah, this is explanation is too naive and shallow, but I am only focusing on the idea of what an object is like).\n",
    "\n",
    "Of course, **R is a Functional OOP Language**, so there are some differences from encapsulated OOP. Those differences, nevertheless, are not important right now because we are just approaching the generic view of OOP.\n",
    "\n",
    "Some references for this subject:\n",
    "\n",
    "- Molloy, D. Chapter 1 - Introduction to Object-oriented Programming. Available at: http://ee402.eeng.dcu.ie/introduction/chapter-1---introduction-to-object-oriented-programming\n",
    "- Wickham, Hadley. Advanced R. Available at: https://adv-r.hadley.nz/index.html\n",
    "- Dataflair. Object Oriented Programming (OOP) in R | Create R Objects & Classes. Available at: https://data-flair.training/blogs/object-oriented-programming-in-r/\n",
    "\n",
    "\n",
    "### Why do I need to know this?\n",
    "\n",
    "This is important because most hypothesis test functions will provide an object with the same class, `htest`. And that is important because you can then use this information to build a set of scripts and to automate many tests.\n",
    "\n",
    "The [spec](http://finzi.psych.upenn.edu/R/library/EnvStats/html/htest.object.html) for htest:\n",
    "\n",
    "|attribute|description|\n",
    "|-|-|\n",
    "|statistic|the value of the test statistic with a name describing it.|\n",
    "|parameter|the parameter(s) for the exact distribution of the test statistic.|\n",
    "|p.value|the p-value for the test.|\n",
    "|null.value|the location parameter mu.|\n",
    "|alternative|a character string describing the alternative hypothesis|\n",
    "|method|the type of test applied.|\n",
    "|data.name|a character string giving the names of the data.|\n",
    "|conf.int|a confidence interval for the location parameter. (Only present if argument conf.int = TRUE.)|\n",
    "|estimate|an estimate of the location parameter. (Only present if argument conf.int = TRUE.)|"
   ]
  },
  {
   "cell_type": "markdown",
   "metadata": {
    "slideshow": {
     "slide_type": "subslide"
    }
   },
   "source": [
    "## Some hypothesis we are going to explore\n",
    "\n",
    "1. Weight plays a huge part in fuel consumption (miles/gallon)\n",
    "2. No difference between transmissions and fuel consumption (miles/gallon) \n",
    "3. No difference between transmissions and horsepower\n",
    "4. Dependence of the number of carburetors and cylinders"
   ]
  },
  {
   "cell_type": "markdown",
   "metadata": {},
   "source": [
    "#### Weight plays a huge part in fuel consumption\n",
    "\n",
    "Thinking back to our physics classes, do you remember this equation?\n",
    "\n",
    "$F=m*a$\n",
    "\n",
    "It's the famous 2nd Newton's Law, you probably had some exercises where you used it to solve for the friction between the tire and the road, or concerning the static and the dynamic friction and how they impact the velocity of a car or it's acceleration. Here we can build the intuition for our hypothesis:\n",
    "\n",
    "> **If** weight is related to fuel consumption, **then** as the weight increases, so does the fuel consumption.\n",
    "\n",
    "Well, we can see here that we want to test the strength and direction of the linear relationship between *weight* and *fuel consumption*, but we also **need to be sure that the relationship in the sample data is strong enough to use to model the relationship in the population**.\n",
    "\n",
    "##### Tests for Correlation\n",
    "\n",
    "- [Pearson Correlation](https://www.statisticshowto.com/probability-and-statistics/correlation-coefficient-formula/)\n",
    "- [Spearman Correlation](https://statistics.laerd.com/statistical-guides/spearmans-rank-order-correlation-statistical-guide.php)\n",
    "- [Kendall Correlation](https://www.statisticshowto.com/kendalls-tau)\n",
    "\n",
    "Note that there are differences between rank-based approaches and the 'conventional' Pearson Correlation tests, especially concerning **monotonic and linear correlations**.\n",
    "\n",
    "**We are going to use the Pearson Correlation Test on this example!**\n",
    "\n",
    "Because of that, **before testing for the linear correlation, we need to perform some preliminary analysis**:\n",
    "\n",
    "1. The covariation is **linear**?\n",
    "2. Data from each feature **is it normal**?"
   ]
  },
  {
   "cell_type": "code",
   "execution_count": null,
   "metadata": {},
   "outputs": [],
   "source": [
    "# To check for the covariation we will use a very simple approach of a scatter plot\n",
    "x <- wt\n",
    "y <- mpg\n",
    "\n",
    "# We are using **raw R**, you will find many packages that perform\n",
    "# all of these approaches and also a better viz in next lectures!\n",
    "plot(\n",
    "    x, y, \n",
    "    main = \"Covariation for Weight and Miles Consumption\",\n",
    "    xlab = \"Weight\",\n",
    "    ylab = \"Miles/gallon\",\n",
    "    pch = 19, frame = FALSE\n",
    ")\n",
    "abline(lm(y ~ x, data = mtcars), col = \"blue\")"
   ]
  },
  {
   "cell_type": "markdown",
   "metadata": {},
   "source": [
    "Awesome, it seems that our covariance is somewhat linear, so we can proceed!\n",
    "\n",
    "Now, we will check if both variables have a normal distribution, this is already an hypothesis test (the first one we will see here) using the [**Shapiro-Wilk Normality Test**](https://www.statisticshowto.com/shapiro-wilk-test/) and also the [**Normal Q-Q Plot**](https://data.library.virginia.edu/understanding-q-q-plots/) which draws the correlation between a given sample and the normal distribution."
   ]
  },
  {
   "cell_type": "code",
   "execution_count": null,
   "metadata": {},
   "outputs": [],
   "source": [
    "# First, let's test for the weight (x)\n",
    "shapiro.test(x)"
   ]
  },
  {
   "cell_type": "code",
   "execution_count": null,
   "metadata": {},
   "outputs": [],
   "source": [
    "shapiro.test(y)"
   ]
  },
  {
   "cell_type": "code",
   "execution_count": null,
   "metadata": {},
   "outputs": [],
   "source": [
    "par(mfrow=c(1,2))\n",
    "qqnorm(x); qqline(x)\n",
    "qqnorm(y); qqline(y)"
   ]
  },
  {
   "cell_type": "markdown",
   "metadata": {},
   "source": [
    "Well, assuming our $\\alpha=0.05$ we can assume normality from the Shapiro-Wilk test and also from the normal q-q plots shown above, so we can finally proceed to our hypothesis tests for the correlation between Miles/Gallon and Weight.\n",
    "\n",
    "One of the nice things about the correlation test in R is that choosing among many different tests for correlation is as easy as providing a new string to the `method` parameter. We will choose two methods here: `pearson` and `kendall` rank correlation tests.\n",
    "\n",
    "Also, here are the corresponding null and alternative hypotheses:\n",
    "\n",
    "**Null Hypothesis $H_{0}$**: $\\rho=0$\n",
    "\n",
    "**Alternative Hypothesis $H_{1}$**: $\\rho\\neq0$"
   ]
  },
  {
   "cell_type": "code",
   "execution_count": null,
   "metadata": {},
   "outputs": [],
   "source": [
    "cor.test(x, y, method=\"pearson\")"
   ]
  },
  {
   "cell_type": "markdown",
   "metadata": {},
   "source": [
    "Awesome! It seems that we have a **significant negative correlation** between weight and miles/gallon, meaning that as the weight increases, the miles/gallon decreases; in other words, the fuel consumption increases with the weight of the car and we can travel fewer miles per gallon."
   ]
  },
  {
   "cell_type": "markdown",
   "metadata": {},
   "source": [
    "#### Hands-On\n",
    "\n",
    "It looks like we can probably work on our first hands-on assignment. Take a look at what the displacement variable means:\n",
    "\n",
    "![Engine Displacement](https://www.buzzle.com/images/diagrams/engine-displacement-measurement.jpg)\n",
    "\n",
    "Can we create a new hypothesis using this information? We can create **a lot of hypothesis**, but let's build the following one:\n",
    "\n",
    "##### Our hypothesis\n",
    "\n",
    "> **If** displacement is related to horsepower, **then** as the displacement increases, so do the horsepower of the engine.\n",
    "\n",
    "*Tip: if a variable fails for the normality test or the linear covariation we can still test for correlation using the **rank-based** approach.*"
   ]
  },
  {
   "cell_type": "markdown",
   "metadata": {},
   "source": [
    "#### No difference between transmissions and fuel consumption (miles/gallon) \n",
    "\n",
    "This hypothesis comes from common sense that automatic is less efficient than manual transmission engines.\n",
    "\n",
    "> **If** transmission does not affect fuel consumption, **then** there should be no difference in fuel consumption for different transmissions.\n",
    "\n",
    "##### Tests for Difference\n",
    "\n",
    "We will test for difference in means for both populations using a **t-test**, but we need to ask ourselves a question:\n",
    "\n",
    "*\"The variance between the two populations are supposed to be equal or different?\"*\n",
    "\n",
    "Answering this question will help us in choosing the right test:\n",
    "\n",
    "1. [**Student's t-test**](https://www.datanovia.com/en/lessons/types-of-t-test/unpaired-t-test/students-t-test/)\n",
    "2. [**Wench Two-Sample t-test**](https://www.datanovia.com/en/lessons/types-of-t-test/unpaired-t-test/welch-t-test/)\n",
    "\n",
    "Think of Wench's t-test being less restrictive than the Student's t-test because variances could be different.\n",
    "\n",
    "Again, we need to ensure some conditions before actually performing the test:\n",
    "\n",
    "- Ensure populations may have been drawn from a normal distribution"
   ]
  },
  {
   "cell_type": "code",
   "execution_count": null,
   "metadata": {},
   "outputs": [],
   "source": [
    "# Here we are only making the values more human-readable\n",
    "mtcars$fam = factor(mtcars$am, levels=c(0,1), labels=c(\"automatic\",\"manual\"))"
   ]
  },
  {
   "cell_type": "code",
   "execution_count": null,
   "metadata": {},
   "outputs": [],
   "source": [
    "summary(mtcars$fam)"
   ]
  },
  {
   "cell_type": "code",
   "execution_count": null,
   "metadata": {},
   "outputs": [],
   "source": [
    "attach(mtcars)  # Need to reattach because of new variable"
   ]
  },
  {
   "cell_type": "code",
   "execution_count": null,
   "metadata": {},
   "outputs": [],
   "source": [
    "shapiro.test(mpg[fam == \"manual\"])"
   ]
  },
  {
   "cell_type": "code",
   "execution_count": null,
   "metadata": {},
   "outputs": [],
   "source": [
    "shapiro.test(mpg[fam == \"automatic\"])"
   ]
  },
  {
   "cell_type": "code",
   "execution_count": null,
   "metadata": {},
   "outputs": [],
   "source": [
    "par(mfrow=c(1,2))\n",
    "qqnorm(mpg[fam == \"manual\"]); qqline(mpg[fam == \"manual\"])\n",
    "qqnorm(mpg[fam == \"automatic\"]); qqline(mpg[fam == \"automatic\"])"
   ]
  },
  {
   "cell_type": "code",
   "execution_count": null,
   "metadata": {},
   "outputs": [],
   "source": [
    "boxplot(mpg~fam, ylab=\"Miles/Gallon\", xlab=\"Transmission\")"
   ]
  },
  {
   "cell_type": "markdown",
   "metadata": {},
   "source": [
    "Looks like we already have some evidence that the means are not equal, but our test will help us to ensure that this difference is significant."
   ]
  },
  {
   "cell_type": "code",
   "execution_count": null,
   "metadata": {},
   "outputs": [],
   "source": [
    "mtcars.t.test <- t.test(mpg ~ fam)\n",
    "mtcars.t.test"
   ]
  },
  {
   "cell_type": "code",
   "execution_count": null,
   "metadata": {},
   "outputs": [],
   "source": [
    "mtcars.mpg.fam.diff <- round(mtcars.t.test$estimate[1] - mtcars.t.test$estimate[2], 1)\n",
    "\n",
    "# Confidence level as a %\n",
    "conf.level <- attr(mtcars.t.test$conf.int, \"conf.level\") * 100"
   ]
  },
  {
   "cell_type": "code",
   "execution_count": null,
   "metadata": {},
   "outputs": [],
   "source": [
    "sprintf(\n",
    "    \"Our study finds that engines yields on average %.3f miles/gallon in the automatic transmission group compared to the manual transmission group (t-statistic %.3f, p=%.3f, %.0f %% CI [%.3f %.3f]miles/gallon\",\n",
    "    mtcars.mpg.fam.diff,\n",
    "    mtcars.t.test$statistic,\n",
    "    mtcars.t.test$p.value,\n",
    "    conf.level,\n",
    "    mtcars.t.test$conf.int[1],\n",
    "    mtcars.t.test$conf.int[2]\n",
    ")[1]"
   ]
  },
  {
   "cell_type": "raw",
   "metadata": {},
   "source": [
    "# RStudio\n",
    "Our study finds that engines yields on average `r mtcars.mpg.fam.diff` miles/gallong in the automatic transmission group compared to the manual transmission group (t-statistic `r round(mtcars.t.test$statistic, 2)`, p=`r round(mtcars.t.test$p.value, 3)`, `r conf.level`% CI [`r round(mtcars.t.test$conf.int,1)`]g)"
   ]
  },
  {
   "cell_type": "markdown",
   "metadata": {},
   "source": [
    "Comparing the p-value with our $\\alpha$ we see that the result is significant, meaning that there is a significant difference for both means. Remember that this alternative could be one-sided (greater or lesser).\n",
    "\n",
    "Let's see if the more restrictive Student's t-test also provides us the same result:"
   ]
  },
  {
   "cell_type": "code",
   "execution_count": null,
   "metadata": {},
   "outputs": [],
   "source": [
    "t.test(mpg ~ fam, var.eq = T)"
   ]
  },
  {
   "cell_type": "markdown",
   "metadata": {},
   "source": [
    "Nice, we have the same results! We can also test for a different alternative:\n",
    "\n",
    "1. upper: $\\mu_{1}\\gt\\mu_{2}$\n",
    "2. lower: $\\mu_{1}\\lt\\mu_{2}$\n",
    "3. two-tailed: $\\mu_{1}\\ne\\mu_{2}$"
   ]
  },
  {
   "cell_type": "code",
   "execution_count": null,
   "metadata": {},
   "outputs": [],
   "source": [
    "t.test(mpg~fam, var.eq = T, alternative = \"less\")"
   ]
  },
  {
   "cell_type": "markdown",
   "metadata": {},
   "source": [
    "We can see that using the alternative hypothesis as the difference in means less than 0 results in that the miles/gallon for the automatic transmission is less than the manual transmission. Awesome!\n",
    "\n",
    "### 'Homework'\n",
    "\n",
    "- Is there a difference in horsepower between vertical and straight engines?\n",
    "- Does displacement differ by whether an engine is vertical or straight?"
   ]
  },
  {
   "cell_type": "markdown",
   "metadata": {},
   "source": [
    "#### No difference between transmissions and horsepower\n",
    "\n",
    "Another thing that transmission may impact is the horsepower of the car.\n",
    "\n",
    "> **If** transmission has no effect on horsepower, **then** there should be no difference in horsepower for different transmissions."
   ]
  },
  {
   "cell_type": "code",
   "execution_count": null,
   "metadata": {},
   "outputs": [],
   "source": [
    "shapiro.test(hp[fam == \"manual\"])"
   ]
  },
  {
   "cell_type": "code",
   "execution_count": null,
   "metadata": {},
   "outputs": [],
   "source": [
    "shapiro.test(hp[fam == \"automatic\"])"
   ]
  },
  {
   "cell_type": "markdown",
   "metadata": {},
   "source": [
    "One of the conditions is not respected regarding normal distribution: the horsepower for manual transmission. Because of that, we will need to use another test: non-parametric tests and compare medians instead of means!\n",
    "\n",
    "This is the [**Wilcoxon Rank Sum Test**](https://data.library.virginia.edu/the-wilcoxon-rank-sum-test/)!"
   ]
  },
  {
   "cell_type": "code",
   "execution_count": null,
   "metadata": {},
   "outputs": [],
   "source": [
    "boxplot(hp ~ fam)"
   ]
  },
  {
   "cell_type": "code",
   "execution_count": null,
   "metadata": {},
   "outputs": [],
   "source": [
    "wilcox.test(hp ~ fam, mu=0, alt=\"two.sided\", conf.int=T, conf.level=0.95, paired=F, exact=F)"
   ]
  },
  {
   "cell_type": "markdown",
   "metadata": {},
   "source": [
    "Comparing the p-value with our $\\alpha$ we can see that the results are significant and, therefore, the medians are not the same! Again, we used the two-sided alternative, so they could be greater or lesser."
   ]
  },
  {
   "cell_type": "markdown",
   "metadata": {},
   "source": [
    "#### Hands-On\n",
    "\n",
    "Let's look at our second hands-on assignment: can you check if the transmission affects the qsec (the time it took to travel 1/4 miles).\n",
    "\n",
    "##### Our hypothesis\n",
    "\n",
    "> **If** transmission does not affect fuel consumption, **then** there should be no difference in fuel consumption for different transmissions."
   ]
  },
  {
   "cell_type": "markdown",
   "metadata": {},
   "source": [
    "#### Dependence of the number of carburetors and cylinders\n",
    "\n",
    "On an engine the carburetor is responsible for mixing air and fuel for internal combustion, the mixture is then 'given' to a cylinder or a group of cylinders. Let's check if they are dependent on one another:\n",
    "\n",
    "> **If** the number of carburetors and the number of cylinders are dependent, **then** for a fixed number of carburetors we will have a fixed number of cylinders.\n",
    "\n",
    "##### Tests for Dependence\n",
    "\n",
    "Here we are dealing with two categorical/ordinal variables, to test for dependence we will need to use:\n",
    "\n",
    "- [**Chi-Square Test**](https://www.statisticshowto.com/probability-and-statistics/chi-square/)\n",
    "\n",
    "To use this test we need to use a contingency table, that consists of the count of each category for both variables."
   ]
  },
  {
   "cell_type": "code",
   "execution_count": null,
   "metadata": {},
   "outputs": [],
   "source": [
    "mtcars$cyl <- as.factor(mtcars$cyl)\n",
    "attach(mtcars)"
   ]
  },
  {
   "cell_type": "code",
   "execution_count": null,
   "metadata": {},
   "outputs": [],
   "source": [
    "# Creating the contigency table \n",
    "contingency <- table(carb, cyl)"
   ]
  },
  {
   "cell_type": "code",
   "execution_count": null,
   "metadata": {},
   "outputs": [],
   "source": [
    "contingency"
   ]
  },
  {
   "cell_type": "code",
   "execution_count": null,
   "metadata": {},
   "outputs": [],
   "source": [
    "chisq.test(contingency)"
   ]
  },
  {
   "cell_type": "markdown",
   "metadata": {},
   "source": [
    "This warning is related to small samples in our population, so we are having poor estimates; but fear not, another statistical test that we can use in this scenario is the [**Fisher Test**](https://www.ncbi.nlm.nih.gov/pmc/articles/PMC5426219/#__sec5title):\n",
    "\n",
    "> Fisher's exact test is practically applied only in analysis of small samples but actually it is valid for all sample sizes. While the chi-squared test relies on an approximation, Fisher's exact test is one of exact tests. Especially when more than 20% of cells have expected frequencies < 5, we need to use Fisher's exact test because applying approximation method is inadequate. Fisher's exact test assesses the null hypothesis of independence applying hypergeometric distribution of the numbers in the cells of the table.\n",
    "\n",
    "**(KIM, H. Statistical notes for clinical researchers: Chi-squared test and Fisher's exact test.)**"
   ]
  },
  {
   "cell_type": "code",
   "execution_count": null,
   "metadata": {},
   "outputs": [],
   "source": [
    "fisher.test(contingency)"
   ]
  },
  {
   "cell_type": "markdown",
   "metadata": {},
   "source": [
    "Awesome! We can see that we have a significant value, meaning that we successfully rejected the null hypothesis, meaning that both variables are dependent, or related to each other."
   ]
  },
  {
   "cell_type": "markdown",
   "metadata": {},
   "source": [
    "### Summing Up\n",
    "\n",
    "Categorical tests\n",
    "\n",
    "|function|proportion|input|comments|\n",
    "|-|-|-|-|\n",
    "|`chisq.test`|$\\ge2$ proportions|matrix or contigency table|frequencies should have values greater than 5 for accuracy|\n",
    "|`fisher.test`|$\\ge2$ proportions|matrix or contigency table|may have some problems with large datasets or small values|\n",
    "\n",
    "Continuous tests\n",
    "\n",
    "|function|test|\n",
    "|-|-|\n",
    "|`shapiro.test`|Normality test - Tests whether a data sample has a Gaussian distribution|\n",
    "|`t.test`|The unpaired two-samples t-test is used to compare the mean of two independent groups|\n",
    "|`cor.test`|Test for the association between paired samples, using one of Pearson's product-moment correlation coefficient, Kendall's τ or Spearman's ρ|\n",
    "|||"
   ]
  },
  {
   "cell_type": "markdown",
   "metadata": {},
   "source": [
    "### EXTRA: Analysis of Variance (ANOVA)\n",
    "\n",
    "Suppose we are interested in finding which factors influence mpg the most. We can use an ANOVA modeling approach to help us out."
   ]
  },
  {
   "cell_type": "code",
   "execution_count": null,
   "metadata": {},
   "outputs": [],
   "source": [
    "summary(aov(lm(mpg~.,data=mtcars)))"
   ]
  },
  {
   "cell_type": "markdown",
   "metadata": {},
   "source": [
    "It looks like `cyl`, `disp` and `wt` are the most important parameters apart from `am` which we've performed a Hypothesis Test [previously](#No-difference-between-transmissions-and-fuel-consumption-(miles/gallon)).\n",
    "\n",
    "Now, we can use a nested model test approach to find out which selected factors significantly impact mpg."
   ]
  },
  {
   "cell_type": "code",
   "execution_count": null,
   "metadata": {},
   "outputs": [],
   "source": [
    "fit <- lm(mpg ~ am, data=mtcars)\n",
    "fit1 <- lm(mpg ~ am + cyl, data=mtcars)\n",
    "fit2 <- lm(mpg ~ am + cyl + disp, data=mtcars)\n",
    "fit3 <- lm(mpg ~ am + cyl + disp + wt, data=mtcars)\n",
    "fit4 <- lm(mpg ~ am + cyl + disp + wt + hp, data=mtcars)\n",
    "anovaTable <- anova(fit, fit1, fit2, fit3, fit4)"
   ]
  },
  {
   "cell_type": "code",
   "execution_count": null,
   "metadata": {},
   "outputs": [],
   "source": [
    "anovaTable"
   ]
  },
  {
   "cell_type": "markdown",
   "metadata": {},
   "source": [
    "Here we can see that model 5, which is taking into account all selected variables can be chosen as out final models because the p-value is still significant and for all factor additions we still have a significant p-value."
   ]
  },
  {
   "cell_type": "code",
   "execution_count": null,
   "metadata": {},
   "outputs": [],
   "source": [
    "finalfit <- lm(mpg ~ am + cyl + wt + disp + wt + hp, data=mtcars); summary(finalfit)"
   ]
  },
  {
   "cell_type": "markdown",
   "metadata": {},
   "source": [
    "Nice! We can see that this model explains 83.44% of the variance in mpg and that a manual transmission has 1.80 mpg more than automatic transmission cars. We can also see how each of the selected variables impact on mpg!"
   ]
  }
 ],
 "metadata": {
  "celltoolbar": "Slideshow",
  "kernelspec": {
   "display_name": "R",
   "language": "R",
   "name": "ir"
  },
  "language_info": {
   "codemirror_mode": "r",
   "file_extension": ".r",
   "mimetype": "text/x-r-source",
   "name": "R",
   "pygments_lexer": "r",
   "version": "4.0.2"
  }
 },
 "nbformat": 4,
 "nbformat_minor": 4
}
