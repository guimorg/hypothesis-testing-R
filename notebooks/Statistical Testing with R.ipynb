{
 "cells": [
  {
   "cell_type": "markdown",
   "metadata": {
    "slideshow": {
     "slide_type": "slide"
    }
   },
   "source": [
    "# Statistical tests with R\n",
    "\n",
    "##### Guilherme Gimenez Jr"
   ]
  },
  {
   "cell_type": "markdown",
   "metadata": {
    "slideshow": {
     "slide_type": "subslide"
    }
   },
   "source": [
    "## Agenda\n",
    "\n",
    "1. **About Hypothesis Testing**\n",
    "2. **Importing our data**\n",
    "    1. **Setting up hypothesis**\n",
    "    2. **Jumping right into it**"
   ]
  },
  {
   "cell_type": "markdown",
   "metadata": {
    "slideshow": {
     "slide_type": "slide"
    }
   },
   "source": [
    "### 1. About Hypothesis Testing\n",
    "\n",
    "Building a hypothesis is one of the first steps in starting in the analysis of experiments, it is all about **answering a question**. Of course, before building a hypothesis is always nice to conduct an Exploratory Data Analysis (EDA) to get more insight into what information is available and what lies within the data."
   ]
  },
  {
   "cell_type": "markdown",
   "metadata": {
    "slideshow": {
     "slide_type": "subslide"
    }
   },
   "source": [
    "#### What is a hypothesis?\n",
    "\n",
    "Well, a hypothesis can be thought of as **an educated guess** about something in the data, it **must be testable** either by an experiment or observation**.\n",
    "\n",
    "When we are proposing a hypothesis we should **write a statement**:\n",
    "\n",
    "> [...] **if** and **then** [...] are necessary in formalized hypothesis. [...] In a formalized hypothesis, a tentative relationship is stated. [...] Formalized hypotheses contain two variables. One is \"independent\" and the other is \"dependent\". The independent variable is the one you, the \"scientist\" control, and the dependent variable is the one that you observe and/or measure the results. [University of California](https://www.csub.edu/~ddodenhoff/Bio100/Bio100sp04/formattingahypothesis.htm)\n",
    "\n",
    "A very nice example of a well-written hypothesis:\n",
    "\n",
    "- **If** skin cancer is **related** to ultraviolet light, **then** people with high exposure to UV light will have a higher frequency of skin cancer.\n",
    "\n",
    "Notice that we have included the **dependent** variable, _skin cancer_ , the **independent variable**, _UV light_ , and also the expectations, or results, for an experiment, _higher frequency of skin cancer_."
   ]
  },
  {
   "cell_type": "markdown",
   "metadata": {
    "slideshow": {
     "slide_type": "subslide"
    }
   },
   "source": [
    "#### What is Hypothesis Testing?\n",
    "\n",
    "In simple words, we are **test the odds of our results happening by chance** (or if we have meaningful results). In order to do this we need to have a **null hypothesis $H_{0}$** (and an alternative hypothesis $H_{1}$) that we will try to reject or accept.\n",
    "\n",
    "This is where the most known _p-value_ term is born: in order to determin the statistical significance of the results we analyse the _p-value_ , if is less than or equal to a _particular threshold_ there is evidence against the null hypothesis. Different fields use different threshold values when performing hypothesis testing, in our case we will use $\\alpha=0.05$.\n",
    "\n",
    "> Under the null hypothesis, a parameter of interest is set to a particular value, typically zero, which represents the \"no effect\" relative to the effectt the research is testing for. [Too Big to Fail: Large Samples and the p-value Problem](https://www.researchgate.net/publication/270504262_Too_Big_to_Fail_Large_Samples_and_the_p-Value_Problem)\n",
    "\n",
    "The following table shows the possible outcomes:\n",
    "\n",
    "|||Actual Validity of $H_{0}$|Actual Validity of $H_{0}$|\n",
    "|-|-|-|-|\n",
    "|||**$H_{0}$ is true**|**$H_{0}$ is false**|\n",
    "|**Decision Made**|**Accept $H_{0}$**|True Negative|False Negative (Type II error)|\n",
    "|**Decision Made**|**Reject $H_{0}$**|False Positive (Type I error)|True Positive|"
   ]
  },
  {
   "cell_type": "markdown",
   "metadata": {
    "slideshow": {
     "slide_type": "subslide"
    }
   },
   "source": [
    "The _p-value_ is a _very slippery terrain_ and must be dealt with caution. There are some problems related hypothesis testing like:\n",
    "\n",
    "- A high number of observations can lead to significant _p-values_ even if there is no statistical significance\n",
    "- Selective reporting and _p-hacking_ are some issues that arrive due to heavy usage of p-values"
   ]
  },
  {
   "cell_type": "markdown",
   "metadata": {
    "slideshow": {
     "slide_type": "subslide"
    }
   },
   "source": [
    "#### Types of statistical tests \n",
    "\n",
    "The appropriate statistical test for the data depend on **the number and type of variables** that will be included in the analysis.\n",
    "\n",
    "There are [several tables](https://stats.idre.ucla.edu/other/mult-pkg/whatstat/) that can help when choosing the right statistical test to perform. Here we are going to see statistical tests when dealing with **independent groups**.\n",
    "\n",
    "|Nature of Dependent Variables|Test|\n",
    "|-|-|"
   ]
  },
  {
   "cell_type": "markdown",
   "metadata": {
    "slideshow": {
     "slide_type": "slide"
    }
   },
   "source": [
    "### 2. Importing our data\n",
    "\n",
    "In order to perform our statistical tests we will use some datasets that are already availabe on R (with our vanilla instalation).\n",
    "\n",
    "- **esoph** - Smoking, Alcohol And (O)Esophageal Cancer: Data from a case-control study of (o)esophageal cancer in Ille-et-Vilaine, France.\n",
    "- "
   ]
  },
  {
   "cell_type": "code",
   "execution_count": null,
   "metadata": {
    "slideshow": {
     "slide_type": "subslide"
    }
   },
   "outputs": [],
   "source": [
    "# Let's see which datasets are already available from our vanilla R installation\n",
    "data()"
   ]
  },
  {
   "cell_type": "markdown",
   "metadata": {
    "slideshow": {
     "slide_type": "slide"
    }
   },
   "source": [
    "#### Categorical Testing - esoph\n",
    "\n",
    "This [data](https://rdrr.io/r/datasets/esoph.html) contains data for 88 age/alcohol/tobacco combinations. These are the following variables:\n",
    "\n",
    "|Variable|Description|Values|\n",
    "|-|-|-|\n",
    "|agegp|Age Group|25--34 years|\n",
    "|||35--44|\n",
    "|||45--54|\n",
    "|||55--64|\n",
    "|||65--74|\n",
    "|||75+|\n",
    "|alcgp|Alcohol consumption|0--39 gm/day|\n",
    "|||40--79|\n",
    "|||80--119|\n",
    "|||120+|\n",
    "|tobgp|Tobacco Consumption|0--9 gm/day|\n",
    "|||10--19|\n",
    "|||20--29|\n",
    "|||30+|\n",
    "|ncontrols|Number of controls||\n",
    "|ncases|Number of cases||"
   ]
  },
  {
   "cell_type": "code",
   "execution_count": null,
   "metadata": {
    "slideshow": {
     "slide_type": "subslide"
    }
   },
   "outputs": [],
   "source": [
    "head(esoph)\n",
    "# If this doesn't work on RStudio, try running this command:\n",
    "# data(esoph)"
   ]
  },
  {
   "cell_type": "markdown",
   "metadata": {
    "slideshow": {
     "slide_type": "subslide"
    }
   },
   "source": [
    "Let's explore our data a little bit, we need to understand our variables types and their distribution..."
   ]
  },
  {
   "cell_type": "code",
   "execution_count": null,
   "metadata": {
    "slideshow": {
     "slide_type": "subslide"
    }
   },
   "outputs": [],
   "source": [
    "# Getting statistical information about each variable\n",
    "summary(esoph)"
   ]
  },
  {
   "cell_type": "markdown",
   "metadata": {
    "slideshow": {
     "slide_type": "subslide"
    }
   },
   "source": [
    "OK! We have a very similar distribution of age, alcohol consumption and tobacco consumption in our dataset. Also, instead of having continuous values we have categorical ones.\n",
    "\n",
    "With this information we can already elect some tests for our data: **categorical like Fisher and chi-squared**.\n",
    "\n",
    "But we don't have any hypothesis yet.\n",
    "\n",
    "##### Building our hypothesis\n",
    "\n",
    "> **If** age is related to (o)esophageal cancer, **then** as age increases, so does the frequency of cases.\n",
    "\n",
    "###### Choosing our test\n",
    "\n",
    "This is a nice hypothesis, we are basically testing for evidence that age may be related to (o)esophageal cancer. Because we have 2+ groups for our hypothesis testing (6 age groups). Here we will use a test called 'equality of proportions'."
   ]
  },
  {
   "cell_type": "code",
   "execution_count": null,
   "metadata": {},
   "outputs": [],
   "source": [
    "# Let's build a contingency table for our hypothesis\n",
    "table(esoph$agegp, esoph$ncases)"
   ]
  },
  {
   "cell_type": "code",
   "execution_count": null,
   "metadata": {},
   "outputs": [],
   "source": [
    "# Let's visualize our data normalizing the number of controls and the number of cases\n",
    "boxplot(esoph$ncases / (esoph$ncases + esoph$ncontrols) ~ esoph$agegp)"
   ]
  },
  {
   "cell_type": "markdown",
   "metadata": {},
   "source": [
    "Just by looking at this data, can we see evidence for our hypothesis?\n",
    "\n",
    "R provides us a very nice interface for performing tests related to **proportions**, this can be done using the `prop.test` interface."
   ]
  },
  {
   "cell_type": "code",
   "execution_count": null,
   "metadata": {},
   "outputs": [],
   "source": [
    "# This can help you finding more information about the test\n",
    "?prop.test"
   ]
  },
  {
   "cell_type": "code",
   "execution_count": null,
   "metadata": {},
   "outputs": [],
   "source": [
    "# To perform our test we need two vectors:\n",
    "#   1. \"Successes\": containing the total number of cases\n",
    "#   2. \"Trials\": conducting the number of trials\n",
    "\n",
    "# tapply is a function for applying a function to an array\n",
    "# think of it as a groupby in this context\n",
    "\n",
    "case <- tapply(esoph$ncases, esoph$agegp, sum)\n",
    "total <- tapply(esoph$ncontrols + esoph$ncases, esoph$agegp, sum)"
   ]
  },
  {
   "cell_type": "code",
   "execution_count": null,
   "metadata": {},
   "outputs": [],
   "source": [
    "# Finally, let's perform our test, we pass to the function\n",
    "# the array containing the total number of cases and the total number of trials\n",
    "prop.test(x=case, n=total)"
   ]
  },
  {
   "cell_type": "markdown",
   "metadata": {},
   "source": [
    "Let's analyze our results:\n",
    "\n",
    "**Our p-value is less than our alpha ($2.224*10^{-13}<0.05$) meaning that we succeeded to reject the null hypothesis**, in this case:\n",
    "\n",
    "- $H_{0}$ The proportion of cases is the same in each age group.\n",
    "- $H_{1}$ The proportion of cases is **not** the same in each age group.\n",
    "\n",
    "OK, we have just conducted our first statistical test but..... well, we still haven't evidence to support our hypothesis that there is a linear trend between age group and (o)esophageal cancer."
   ]
  },
  {
   "cell_type": "code",
   "execution_count": null,
   "metadata": {},
   "outputs": [],
   "source": [
    "prop.trend.test(case, total)"
   ]
  },
  {
   "cell_type": "markdown",
   "metadata": {},
   "source": [
    "Again, **our p-value is less than our alpha ($4.136*10^{-14}<0.05$) meaning that we succeeded to reject the null hypothesis**, in this case:\n",
    "\n",
    "- $H_{0}$ There is **no linear trend** in the proportion of cases across age groups.\n",
    "- $H_{1}$ There is a **linear trend** in the proportion of cases across age groups.\n",
    "\n",
    "Keep in mind that **this test can only be used if there is an ordinal variable**, in our case each category group corresponds to an increasing age group."
   ]
  },
  {
   "cell_type": "markdown",
   "metadata": {},
   "source": [
    "#### Hands-On\n",
    "\n",
    "What about these hypotheses?\n",
    "\n",
    "> **If** alcgp is related to (o)esophageal cancer, **then** as alcgp increases, so does the frequency of cases.\n",
    "\n",
    "> **If** tobgp is related to (o)esophageal cancer, **then** as tobgp increases, so does the frequency of cases.\n",
    "\n",
    "What did you learn for the hypotheses?"
   ]
  },
  {
   "cell_type": "markdown",
   "metadata": {},
   "source": [
    "Ok, Ok! We've seen how to test hypotheses regarding comparison of proportions. But what if we want to check for independence of different categorical variables? We then would not have only a matrix of 1xn, but whether a matrix of mxn.\n",
    "\n",
    "##### Building our hypothesis\n",
    "\n",
    "> **If** alcgp _and_ tobpg are dependent to cancer status, **then** the interaction in alcgp and tobpg interact affects the frequency of cases.\n",
    "\n",
    "##### Choosing our statistical test\n",
    "\n",
    "Previously we've seen a special-case for chi-squared called 'equality of proportions' (sometimes referred as z-test) - or one-way chi-squared. In this case we can both use the Fisher's Exact Test or Chi-Square Test (due to the nature of the first one it is used on small-sampled data)"
   ]
  },
  {
   "cell_type": "code",
   "execution_count": null,
   "metadata": {},
   "outputs": [],
   "source": [
    "# First we need to aggregate our data into our matrix of m x n\n",
    "# where m is the number of categories for variable A and n is\n",
    "# the number of categories for feature B\n",
    "\n",
    "# This is also referred as the contigency table or multi-way r' c table\n",
    "\n",
    "table_1 <- tapply(esoph$ncases, list(esoph$tobgp, esoph$alcgp), sum)"
   ]
  },
  {
   "cell_type": "code",
   "execution_count": null,
   "metadata": {},
   "outputs": [],
   "source": [
    "table_1"
   ]
  },
  {
   "cell_type": "code",
   "execution_count": null,
   "metadata": {},
   "outputs": [],
   "source": [
    "# We have cases where values are really small (<= 5), this makes\n",
    "# R raise the error for the approximation where the accuracy for\n",
    "# X-squared cannot be trusted\n",
    "\n",
    "chisq.test(table_1)"
   ]
  },
  {
   "cell_type": "code",
   "execution_count": null,
   "metadata": {},
   "outputs": [],
   "source": [
    "# Fisher's test can be a little catchy especially for really large datasets\n",
    "# and when you have values that are too large or too small (< 5), in the later case\n",
    "# R will complain about the workspace (basically controls the size of the network algorithm)\n",
    "# and you must increase its value (default is 2e5) but this will also increase execution time.\n",
    "\n",
    "fisher.test(table_1, workspace=2e6)"
   ]
  },
  {
   "cell_type": "markdown",
   "metadata": {},
   "source": [
    "OK, let's analyze our results:\n",
    "\n",
    "**Our p-value is greater than our alpha ($0.5966>0.05$) meaning that we failed to reject the null hypothesis** (or we accept the alternative hypothesis), in this case:\n",
    "\n",
    "- $H_{0}$ alcgp and tobpg **are independent**.\n",
    "- $H_{1}$ alcgp and tobpg **are not independent**.\n",
    "\n",
    "Therefore, alcgp and tobpg are independent (have no relationship or interaction) in respect to the number of cases."
   ]
  },
  {
   "cell_type": "markdown",
   "metadata": {},
   "source": [
    "#### Hands-On\n",
    "\n",
    "What about these hypotheses?\n",
    "\n",
    "> **If** alcgp and age are dependent to cancer status, then the interaction in alcgp and age interact affects the frequency of cases.\n",
    "\n",
    "> **If** tobpg and age are dependent to cancer status, then the interaction in tobpg and age interact affects the frequency of cases.\n",
    "\n",
    "What did you learn for the hypotheses?"
   ]
  },
  {
   "cell_type": "markdown",
   "metadata": {},
   "source": [
    "### Summing Up\n",
    "\n",
    "We've seen a little bit for hypotesis testing with categorical variables:\n",
    "\n",
    "|function|proportion|input|comments|\n",
    "|-|-|-|-|\n",
    "|`prop.test`|single proportion|vector of successes and trials|accurate for large datasets|\n",
    "|`chisq.test`|$\\ge2$ proportions|matrix or contigency table|frequencies should have values greater than 5 for accuracy|\n",
    "|`fisher.test`|$\\ge2$ proportions|matrix or contigency table|may have some problems with large datasets or small values|"
   ]
  }
 ],
 "metadata": {
  "celltoolbar": "Slideshow",
  "kernelspec": {
   "display_name": "R",
   "language": "R",
   "name": "ir"
  },
  "language_info": {
   "codemirror_mode": "r",
   "file_extension": ".r",
   "mimetype": "text/x-r-source",
   "name": "R",
   "pygments_lexer": "r",
   "version": "4.0.2"
  }
 },
 "nbformat": 4,
 "nbformat_minor": 4
}
